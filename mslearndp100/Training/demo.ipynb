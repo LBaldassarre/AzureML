{
 "cells": [
  {
   "cell_type": "code",
   "execution_count": 10,
   "metadata": {},
   "outputs": [],
   "source": [
    "from azureml.core import Workspace\n",
    "\n",
    "ws = Workspace.from_config()"
   ]
  },
  {
   "cell_type": "code",
   "execution_count": 11,
   "metadata": {},
   "outputs": [],
   "source": [
    "# Import the needed experiment package from the Azure ML SDK\n",
    "from azureml.core import Experiment\n",
    "import pandas as pd\n",
    "\n",
    "# Create an experiment variable\n",
    "experiment = Experiment(workspace = ws, name = \"dp100-demo-experiment\")\n",
    "\n",
    "# Start the experimetn by starting to log metrics\n",
    "run = experiment.start_logging()\n",
    "\n",
    "# Load a dataset and count the rows\n",
    "data = pd.read_csv('../data/diabetes.csv')\n",
    "row_count = (len(data))\n",
    "\n",
    "# Log the row count as a metric\n",
    "run.log('observation', row_count)\n",
    "\n",
    "# End the experiment\n",
    "run.complete()"
   ]
  },
  {
   "cell_type": "code",
   "execution_count": 12,
   "metadata": {},
   "outputs": [
    {
     "name": "stdout",
     "output_type": "stream",
     "text": [
      "{\n",
      "  \"observation\": 10000\n",
      "}\n"
     ]
    }
   ],
   "source": [
    "import json\n",
    "\n",
    "# Get logged metrics\n",
    "metrics = run.get_metrics()\n",
    "print(json.dumps(metrics, indent=2))"
   ]
  }
 ],
 "metadata": {
  "kernelspec": {
   "display_name": "Python 3",
   "language": "python",
   "name": "python3"
  },
  "language_info": {
   "codemirror_mode": {
    "name": "ipython",
    "version": 3
   },
   "file_extension": ".py",
   "mimetype": "text/x-python",
   "name": "python",
   "nbconvert_exporter": "python",
   "pygments_lexer": "ipython3",
   "version": "3.11.5"
  }
 },
 "nbformat": 4,
 "nbformat_minor": 2
}
